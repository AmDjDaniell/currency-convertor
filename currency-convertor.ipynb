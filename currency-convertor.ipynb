{
 "cells": [
  {
   "cell_type": "code",
   "execution_count": null,
   "id": "472546ba",
   "metadata": {},
   "outputs": [],
   "source": [
    "import requests\n",
    "\n",
    "api_key = \"0e2d9593210942c2b4f89799f397f8b1\"\n",
    "base_url = f\"https://openexchangerates.org/api/latest.json?app_id={api_key}\"\n",
    "\n",
    "def convert_currency(amount, from_currency, to_currency):\n",
    "    try:\n",
    "        response = requests.get(base_url)\n",
    "        exchange_rates = response.json()[\"rates\"]\n",
    "        from_rate = exchange_rates[from_currency.upper()]\n",
    "        to_rate = exchange_rates[to_currency.upper()]\n",
    "    except:\n",
    "        return \"Error: Unable to retrieve exchange rates from API.\"\n",
    "\n",
    "    try:\n",
    "        result = amount * (to_rate / from_rate)\n",
    "        return round(result, 2)\n",
    "    except:\n",
    "        return \"Error: Invalid amount entered.\"\n",
    "\n",
    "while True:\n",
    "    try:\n",
    "        amount = float(input(\"Enter amount: \"))\n",
    "        from_currency = input(\"From currency: \")\n",
    "        to_currency = input(\"To currency: \")\n",
    "\n",
    "        result = convert_currency(amount, from_currency, to_currency)\n",
    "        print(f\"{amount} {from_currency.upper()} = {result} {to_currency.upper()}\")\n",
    "    except ValueError:\n",
    "        print(\"Error: Invalid input entered.\")\n",
    "    except KeyboardInterrupt:\n",
    "        break\n"
   ]
  },
  {
   "cell_type": "code",
   "execution_count": null,
   "id": "adc244fd",
   "metadata": {},
   "outputs": [],
   "source": []
  }
 ],
 "metadata": {
  "kernelspec": {
   "display_name": "Python 3 (ipykernel)",
   "language": "python",
   "name": "python3"
  },
  "language_info": {
   "codemirror_mode": {
    "name": "ipython",
    "version": 3
   },
   "file_extension": ".py",
   "mimetype": "text/x-python",
   "name": "python",
   "nbconvert_exporter": "python",
   "pygments_lexer": "ipython3",
   "version": "3.10.9"
  }
 },
 "nbformat": 4,
 "nbformat_minor": 5
}
